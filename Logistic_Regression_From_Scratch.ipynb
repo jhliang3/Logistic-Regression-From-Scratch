{
 "cells": [
  {
   "cell_type": "markdown",
   "metadata": {
    "id": "fepLQAj-JshB"
   },
   "source": [
    "# Logistic Regression From Scratch\n",
    "Alice Liu<br>\n",
    "Jiahua Liang"
   ]
  },
  {
   "cell_type": "code",
   "execution_count": null,
   "metadata": {
    "ExecuteTime": {
     "end_time": "2022-02-24T01:26:34.064478Z",
     "start_time": "2022-02-24T01:26:31.486840Z"
    },
    "id": "kf2IjDoxJo2F"
   },
   "outputs": [],
   "source": [
    "import pandas as pd\n",
    "import numpy as np\n",
    "from sklearn.utils import shuffle\n",
    "from sklearn.preprocessing import StandardScaler\n",
    "from sklearn.linear_model import LogisticRegression\n",
    "from sklearn.metrics import accuracy_score\n",
    "from sklearn.metrics import f1_score\n",
    "from sklearn.model_selection import train_test_split\n",
    "import warnings\n",
    "warnings.filterwarnings('ignore')"
   ]
  },
  {
   "cell_type": "markdown",
   "metadata": {
    "id": "qe6IrDnXiuGx"
   },
   "source": [
    "## 1. Implementation of Logistic Regression"
   ]
  },
  {
   "cell_type": "markdown",
   "metadata": {
    "id": "ZhivEz0sc3ya"
   },
   "source": [
    "### 1.1 Math Functions"
   ]
  },
  {
   "cell_type": "code",
   "execution_count": null,
   "metadata": {
    "ExecuteTime": {
     "end_time": "2022-02-24T01:26:34.092776Z",
     "start_time": "2022-02-24T01:26:34.066938Z"
    },
    "id": "Tgtwi3Z1bNwH"
   },
   "outputs": [],
   "source": [
    "# define sigmoid function\n",
    "def sigmoid(x): \n",
    "    \"\"\"Calculates Sigmoid value\"\"\"\n",
    "    \n",
    "    sig = 1./(1+np.exp(-x))\n",
    "    return sig\n",
    "\n",
    "# define cost function:\n",
    "def cost_fn(x, y, b):\n",
    "    \"\"\"Calculates cost\"\"\"\n",
    "    \n",
    "    z = np.dot(x,b)\n",
    "    sig = sigmoid(z)\n",
    "    J = - np.dot(y.T,np.log(sig+1e-6)) - np.dot((1-y).T,np.log(1e-6-sig)) # add a small constant to avoid numerical issue\n",
    "    return J\n",
    "\n",
    "# define function to compute gradient\n",
    "def gradient(x, y, b):\n",
    "    \"\"\"Calculates gradient vector\"\"\"\n",
    "    \n",
    "    sig = sigmoid(np.dot(x, b))        \n",
    "    grad = np.dot(x.T, sig - y) \n",
    "    return grad \n",
    "\n",
    "# define function to compute Hessian matrix\n",
    "def hessian(x, y, b):\n",
    "    \"\"\"Calculates Hessian matrix\"\"\"\n",
    "    \n",
    "    N,D = x.shape\n",
    "    R = np.zeros((N,N))                     # initialize diagonal matrix\n",
    "    for i in range(N):\n",
    "        sig = sigmoid(np.dot(x[i], b))\n",
    "        R[i,i] = sig*(1-sig)          # fill diagonal entries\n",
    "    H = x.T@R@x                             # Hessain matrix\n",
    "    return H"
   ]
  },
  {
   "cell_type": "markdown",
   "metadata": {
    "id": "6-ATXxdAiuGz"
   },
   "source": [
    "### 1.2 Optimization Methods\n",
    "\n",
    "Note: the `gradient_descent` function is a 3-in-1 universal function for batch (ordinary) gradient descent, stochastic gradient descent, and mini-batch gradient descent. User can choose which one to use by inputting the proper `batch_size` and `epochs`.\n",
    "\n",
    "For batch (ordinary) gradient descent: \n",
    "- `batch_size` = the number of observations in the dataset \n",
    "- `epochs` is the same as the maximum number of iterations\n",
    "\n",
    "For stochastic gradient descent: \n",
    "- `batch_size` = 1\n",
    "- the maximum number of iterations = `epochs` $\\times$ the number of observations\n",
    "\n",
    "For mini-batch gradient descent: \n",
    "- `batch_size` = any valid value\n",
    "- the maximum number of iterations = `epochs` $\\times$ the number of batches (the number of observations / `batch_size`)"
   ]
  },
  {
   "cell_type": "code",
   "execution_count": null,
   "metadata": {
    "ExecuteTime": {
     "end_time": "2022-02-24T02:21:21.192122Z",
     "start_time": "2022-02-24T02:21:21.178348Z"
    },
    "id": "ey3U6LSciuG0"
   },
   "outputs": [],
   "source": [
    "# define generalized gradient descent function\n",
    "def gradient_descent(x, y, b, learning_rate, decay_rate, epsilon, epochs, batch_size, momentum):\n",
    "    \"\"\"Perform generalized gradient descent algorithm, including ordinary, stochastic, mini-batch versions\n",
    "\n",
    "    Parameters\n",
    "    ----------\n",
    "    x : array-like\n",
    "        The input matrix with rows as observations and columns as features\n",
    "    y : array-like\n",
    "        The labels for observations  \n",
    "    b : array-like\n",
    "        The initial model parameters\n",
    "    learning_rate : float\n",
    "        Determines the step size at each iteration, must be > 0, typically > 0 and < 1      \n",
    "    decay_rate : float\n",
    "        The decay rate for inversely decaying learning rate, must be >=0, typically >= 0 and < 1     \n",
    "    epsilon : float\n",
    "        The precision tolerance of cost function value as stopping criteria\n",
    "    epochs : int\n",
    "        The number of times that the entire dataset is traversed \n",
    "    batch_size : int\n",
    "        The the size of a batch of the input data\n",
    "    momentum : float\n",
    "        The coefficient of the momentum term\n",
    "\n",
    "    Returns\n",
    "    -------\n",
    "    J_new : float\n",
    "        The final cost function value\n",
    "    b : array-like\n",
    "        The optimized model parameters\n",
    "    iteration : int\n",
    "        The total number of iterations run\n",
    "    \"\"\"\n",
    "    \n",
    "    x = np.array(x, dtype=np.dtype(\"float64\"))\n",
    "    y = np.array(y, dtype=np.dtype(\"float64\")).flatten()\n",
    "    J = np.inf    \n",
    "    num_obs = len(x)\n",
    "    num_batch = num_obs // batch_size \n",
    "    iteration = 0 \n",
    "    change  =0\n",
    "    \n",
    "    # arguement value check\n",
    "    if not 0 < batch_size <= num_obs:\n",
    "        raise ValueError(\n",
    "            \"'batch_size' must be greater than zero and less than \"\n",
    "            \"or equal to the number of observations\")\n",
    "        \n",
    "    if num_obs != y.shape[0]:\n",
    "        raise ValueError(\"'x' and 'y' lengths do not match\")\n",
    "        \n",
    "    if x.shape[1] != len(b):\n",
    "        raise ValueError(\"incorrect number of parameters\")\n",
    "    \n",
    "    # algorithem starts\n",
    "    for epoch in range(epochs):\n",
    "        x, y = shuffle(x, y, random_state=0)                        # shuffle x and y for a new epoch\n",
    "        for start in range(0, num_obs, batch_size):\n",
    "            end = start + batch_size\n",
    "            x_sub = x[start:end,:]\n",
    "            y_sub = y[start:end]\n",
    "            J_new = cost_fn(x, y, b)                                # Compute cost\n",
    "            grad = gradient(x_sub, y_sub, b)                        # compute gradient\n",
    "            new_change = learning_rate*grad + momentum*change       # calculate the update of parameters \n",
    "            b = b - new_change                                      # update parameters\n",
    "            learning_rate = learning_rate/(1+decay_rate*iteration)  # inverse decay of learning rate\n",
    "            change = new_change\n",
    "            iteration += 1\n",
    "            if np.abs(J_new - J) < epsilon:  # terminate if the difference in cost function is less than the precision\n",
    "                break\n",
    "            else:\n",
    "                J = J_new\n",
    "        if num_obs % batch_size != 0:    # if batch size is not divisible by the number of observations\n",
    "            x_sub = x[num_obs-(num_obs%batch_size):num_obs,:]  # use the rest of the data to perform one more iteration\n",
    "            y_sub = y[num_obs-(num_obs%batch_size):num_obs]\n",
    "            J_new = cost_fn(x, y, b)                                # Compute cost\n",
    "            grad = gradient(x_sub, y_sub, b)                        # compute gradient\n",
    "            new_change = learning_rate*grad + momentum*change       # calculate the update of parameters \n",
    "            b = b - new_change                                      # update parameters\n",
    "            learning_rate = learning_rate/(1+decay_rate*iteration)  # inverse decay of learning rate\n",
    "            change = new_change\n",
    "            iteration += 1\n",
    "            if np.abs(J_new - J) < epsilon:  # terminate if the difference in cost function is less than the precision\n",
    "                break\n",
    "            else:\n",
    "                J = J_new\n",
    "            \n",
    "    return J_new, b, iteration\n",
    "\n",
    "# define function for Newton Method\n",
    "def newton(x, y, b, epsilon, max_iters):\n",
    "    \"\"\"Perform generalized gradient descent algorithm, including ordinary, stochastic, mini-batch stochastic versions\n",
    "\n",
    "    Parameters\n",
    "    ----------\n",
    "    x : array-like\n",
    "        The input matrix with rows as observations and columns as features\n",
    "    y : array-like\n",
    "        The labels for observations\n",
    "    b : array-like\n",
    "        The initial model parameters\n",
    "    epsilon : float\n",
    "        The precision tolerance of cost function value as stopping criteria\n",
    "    max_iters : int\n",
    "        The maximum number of iterations to be run\n",
    "\n",
    "    Returns\n",
    "    -------\n",
    "    J_new : float\n",
    "        The final cost function value\n",
    "    b : array-like\n",
    "        The optimized model parameters\n",
    "    iteration : int\n",
    "        The total number of iterations run\n",
    "    \"\"\"\n",
    "    \n",
    "    x = np.array(x, dtype=np.dtype(\"float64\"))\n",
    "    y = np.array(y, dtype=np.dtype(\"float64\")).flatten()\n",
    "    J = 1e9\n",
    "    iteration = 0\n",
    "    for i in range(0, max_iters):\n",
    "        J_new = cost_fn(x, y, b)             # Compute cost\n",
    "        grad = gradient(x, y, b)             # compute gradient\n",
    "        H = hessian(x, y, b)                 # compute Hessian matrix\n",
    "        b = b - np.linalg.inv(H+np.identity(len(b))*1e-6)@grad # update parameters, add an indentity matrix with small constant to avoid numerical issue\n",
    "        iteration += 1\n",
    "        if np.abs(J_new - J) < epsilon:      # terminate if the difference in cost function is less than the precision\n",
    "            break\n",
    "        else:\n",
    "            J = J_new\n",
    "            \n",
    "    return J_new, b, iteration"
   ]
  },
  {
   "cell_type": "markdown",
   "metadata": {
    "id": "4ToFeMy8iuG2"
   },
   "source": [
    "### 1.3 Logistic Regression Class"
   ]
  },
  {
   "cell_type": "code",
   "execution_count": null,
   "metadata": {
    "ExecuteTime": {
     "end_time": "2022-02-24T01:26:34.164913Z",
     "start_time": "2022-02-24T01:26:34.140994Z"
    },
    "id": "Lvt2NPrXiuG3"
   },
   "outputs": [],
   "source": [
    "class Logistic_Regression:\n",
    "    \"\"\"\n",
    "    A class used to represent a logistic regression model\n",
    "\n",
    "    Attributes\n",
    "    ----------\n",
    "    order : int (either 1 or 2)\n",
    "        Indicates the use of first-order (1) or second-order (2) optimization method, default value = 1\n",
    "    learning_rate : float\n",
    "        Determines the step size at each iteration, must be > 0, typically > 0 and < 1, default value = 1e-3      \n",
    "    decay_rate : float\n",
    "        The decay rate for inversely decaying learning rate, must be >=0, typically >= 0 and < 1, default value = 0     \n",
    "    epsilon : float\n",
    "        The precision tolerance of cost function value as stopping criteria, default value = 1e-4\n",
    "    epochs : int\n",
    "        The number of times that the entire dataset is traversed, default value = 32\n",
    "    batch_size : int\n",
    "        The the size of a batch of the input data, default value = 1\n",
    "    momentum : float\n",
    "        The coefficient of the momentum term, default value = 0\n",
    "    threshold : float\n",
    "        The probability threshold for class assignment, default value = 0.5\n",
    "    verbose : boolean\n",
    "        Indicates whether to show model output or not, default value = True\n",
    "    b : array-like\n",
    "        Initial model parameters\n",
    "    param : array-like\n",
    "        The optimized model parameters\n",
    "    coef_ : array-like (2D)\n",
    "        The optimized model coefficients\n",
    "    intercept_ : array-like (2D)\n",
    "        The optimized model intercept\n",
    "\n",
    "    Methods\n",
    "    -------\n",
    "    fit(x, y)\n",
    "        Trains the model with input data x and true label y\n",
    "    predict(x)\n",
    "        Predicts class labels for samples in x\n",
    "    predict_proba(x)\n",
    "        Predicts probability estimates for samples in x\n",
    "    score(x, y)\n",
    "        Calculates classification accuracy\n",
    "    \"\"\"\n",
    "    \n",
    "    def __init__(self, order=1, learning_rate=1e-3, decay_rate=0, epsilon=1e-4, epochs=32, batch_size=1, \n",
    "                 momentum=0.0, threshold=0.5, verbose=True):\n",
    "        \"\"\"Initialize an object of the class\"\"\"\n",
    "        \n",
    "        self.order = int(order)              # the order of optimization method (1 for first order, 2 for second order)\n",
    "        self.learning_rate = learning_rate   # initial learning rate for gradient descent\n",
    "        self.decay_rate = decay_rate         # decay rate of inversely decaying learning rate\n",
    "        self.epsilon = epsilon               # the precision tolerance of cost function value as stopping criteria       \n",
    "        self.epochs = int(epochs)            # the number of epochs to iterate\n",
    "        self.batch_size = int(batch_size)    # the size of batch for general stochastic gradient descent\n",
    "        self.momentum = momentum             # the momentum coefficient for general stochastic gradient descent\n",
    "        self.threshold = threshold           # the probability threshold for class assignment\n",
    "        self.verbose = verbose               # whether to show results or not\n",
    "        \n",
    "        # argument value check\n",
    "        if self.order != 1 and self.order != 2:\n",
    "            raise ValueError(\"only first or second order methods are supported, \"\n",
    "                             \"please type in 1 for first order, 2 for second order\")\n",
    "        \n",
    "        if self.learning_rate <= 0:\n",
    "            raise ValueError(\"'learning_rate' must be greater than zero\")\n",
    "      \n",
    "        if self.decay_rate < 0:\n",
    "            raise ValueError(\"'decay_rate' must be greater or equal to zero\")\n",
    "        \n",
    "        if self.epsilon <= 0:\n",
    "            raise ValueError(\"'tolerance' must be greater than zero\")\n",
    "        \n",
    "        if self.epochs <= 0:\n",
    "            raise ValueError(\"'epochs' must be greater than zero\")\n",
    "        \n",
    "        if self.batch_size <= 0:\n",
    "            raise ValueError(\"'batch_size' must be greater than zero\")\n",
    "            \n",
    "        if self.momentum < 0 or self.momentum > 1:\n",
    "            raise ValueError(\"'momentum' must be between zero and one\")\n",
    "     \n",
    "    # fit function for training the model\n",
    "    def fit(self, x, y):\n",
    "        \"\"\"Trains the model with input data x and true label y\n",
    "\n",
    "        Parameters\n",
    "        ----------\n",
    "        x : array-like\n",
    "            The input matrix with rows as observations and columns as features\n",
    "        y : array-like\n",
    "            The true labels for observations\n",
    "        \n",
    "        Returns\n",
    "        -------\n",
    "        self : object\n",
    "            The object of the class\n",
    "        \"\"\"\n",
    "        \n",
    "        if x.ndim == 1:                      # if input matrix has only one dimension\n",
    "            x = x[:, None]\n",
    "            \n",
    "        N = x.shape[0]\n",
    "        x = np.column_stack([np.ones(N), x]) # add a column of ones for intercept of the model\n",
    "        N,D = x.shape\n",
    "        self.b = np.zeros(D)                 # initialize parameters\n",
    "        \n",
    "        if self.order == 1: \n",
    "            # use gradient descent \n",
    "            cost, self.param, iters = gradient_descent(x, y, self.b, self.learning_rate, self.decay_rate, \n",
    "                                                       self.epsilon, self.epochs, self.batch_size, self.momentum)\n",
    "        else:\n",
    "            # use Newton method\n",
    "            cost, self.param, iters = newton(x, y, self.b, self.epsilon, self.epochs)\n",
    "        \n",
    "        if self.verbose:\n",
    "            print(f'terminated after {iters} iterations, with cost equal to {cost}')\n",
    "            print(f'the coefficients found: {self.param}')\n",
    "        \n",
    "        self.coef_ = np.array([self.param[1:]])\n",
    "        self.intercept_ = np.array([self.param[0]])\n",
    "        \n",
    "        return self\n",
    "    \n",
    "    # function for predicting class labels for samples in x\n",
    "    def predict(self, x):\n",
    "        \"\"\"Predicts class labels for samples in x\n",
    "\n",
    "        Parameters\n",
    "        ----------\n",
    "        x : array-like\n",
    "            The input matrix with rows as observations and columns as features\n",
    "        \n",
    "        Returns\n",
    "        -------\n",
    "        y_pred : array\n",
    "            The array of predicted class labels\n",
    "        \"\"\"\n",
    "        \n",
    "        if x.ndim == 1:\n",
    "            x = x[:, None]\n",
    "        Nt = x.shape[0]\n",
    "        x = np.column_stack([np.ones(Nt), x])      # add a column of ones for intercept of the model\n",
    "        yh = sigmoid(np.dot(x, self.param))            # predict output probability\n",
    "        y_pred = [1 if x>self.threshold else 0 for x in yh]   # assign class labels with threshold\n",
    "        \n",
    "        return np.array(y_pred)\n",
    "    \n",
    "    # function for predicting probability estimates for samples in x\n",
    "    def predict_proba(self, x):\n",
    "        \"\"\"Predicts probability estimates for samples in x\n",
    "\n",
    "        Parameters\n",
    "        ----------\n",
    "        x : array-like\n",
    "            The input matrix with rows as observations and columns as features\n",
    "        \n",
    "        Returns\n",
    "        -------\n",
    "        yh : array\n",
    "            The array of predicted probability estimates\n",
    "        \"\"\"\n",
    "        \n",
    "        if x.ndim == 1:\n",
    "            x = x[:, None]\n",
    "        Nt = x.shape[0]\n",
    "        x = np.column_stack([np.ones(Nt), x])      # add a column of ones for intercept of the model\n",
    "        yh = sigmoid(np.dot(x, self.param))            # predict output probability\n",
    "        \n",
    "        return np.array(yh)\n",
    "    \n",
    "    # function for calculating classification accuracy\n",
    "    def score(self, x, y):\n",
    "        \"\"\"Calculates classification accuracy\n",
    "\n",
    "        Parameters\n",
    "        ----------\n",
    "        x : array-like\n",
    "            The input matrix with rows as observations and columns as features\n",
    "        y : array-like\n",
    "            The true labels for observations\n",
    "        \n",
    "        Returns\n",
    "        -------\n",
    "        accuracy : float\n",
    "            The classification accuracy\n",
    "        \"\"\"\n",
    "        \n",
    "        y_pred = self.predict(x)                   # predicted labels\n",
    "        accuracy = 1 - np.mean(abs(y - y_pred))    # classification accuracy\n",
    "        \n",
    "        return accuracy\n",
    "    "
   ]
  },
  {
   "cell_type": "markdown",
   "metadata": {
    "id": "cSDFB6-wiuG6"
   },
   "source": [
    "## 2. Use Case Application"
   ]
  },
  {
   "cell_type": "markdown",
   "metadata": {
    "id": "yBvVHxlcJydX"
   },
   "source": [
    "### 2.1 Import Data"
   ]
  },
  {
   "cell_type": "code",
   "execution_count": null,
   "metadata": {
    "ExecuteTime": {
     "end_time": "2022-02-24T01:26:35.893779Z",
     "start_time": "2022-02-24T01:26:34.167476Z"
    },
    "id": "g-3xVkZdKWxt"
   },
   "outputs": [],
   "source": [
    "url = 'https://raw.githubusercontent.com/alicekejialiu/datasets/main/Kickstarter.csv'\n",
    "df = pd.read_csv(url,index_col=0,encoding = 'unicode_escape')"
   ]
  },
  {
   "cell_type": "code",
   "execution_count": null,
   "metadata": {
    "ExecuteTime": {
     "end_time": "2022-02-24T01:26:35.987778Z",
     "start_time": "2022-02-24T01:26:35.897240Z"
    },
    "colab": {
     "base_uri": "https://localhost:8080/",
     "height": 987
    },
    "id": "R_dMnfKEO2yy",
    "outputId": "8eb1d7b8-c224-47d5-b4b9-21d69eedf15e"
   },
   "outputs": [
    {
     "data": {
      "text/html": [
       "\n",
       "  <div id=\"df-1259f497-ac3a-4869-b3fc-6e7e736ea391\">\n",
       "    <div class=\"colab-df-container\">\n",
       "      <div>\n",
       "<style scoped>\n",
       "    .dataframe tbody tr th:only-of-type {\n",
       "        vertical-align: middle;\n",
       "    }\n",
       "\n",
       "    .dataframe tbody tr th {\n",
       "        vertical-align: top;\n",
       "    }\n",
       "\n",
       "    .dataframe thead th {\n",
       "        text-align: right;\n",
       "    }\n",
       "</style>\n",
       "<table border=\"1\" class=\"dataframe\">\n",
       "  <thead>\n",
       "    <tr style=\"text-align: right;\">\n",
       "      <th></th>\n",
       "      <th>name</th>\n",
       "      <th>goal</th>\n",
       "      <th>pledged</th>\n",
       "      <th>state</th>\n",
       "      <th>disable_communication</th>\n",
       "      <th>country</th>\n",
       "      <th>currency</th>\n",
       "      <th>deadline</th>\n",
       "      <th>state_changed_at</th>\n",
       "      <th>created_at</th>\n",
       "      <th>launched_at</th>\n",
       "      <th>staff_pick</th>\n",
       "      <th>backers_count</th>\n",
       "      <th>static_usd_rate</th>\n",
       "      <th>usd_pledged</th>\n",
       "      <th>category</th>\n",
       "      <th>spotlight</th>\n",
       "      <th>name_len</th>\n",
       "      <th>name_len_clean</th>\n",
       "      <th>blurb_len</th>\n",
       "      <th>blurb_len_clean</th>\n",
       "      <th>deadline_weekday</th>\n",
       "      <th>state_changed_at_weekday</th>\n",
       "      <th>created_at_weekday</th>\n",
       "      <th>launched_at_weekday</th>\n",
       "      <th>deadline_month</th>\n",
       "      <th>deadline_day</th>\n",
       "      <th>deadline_yr</th>\n",
       "      <th>deadline_hr</th>\n",
       "      <th>state_changed_at_month</th>\n",
       "      <th>state_changed_at_day</th>\n",
       "      <th>state_changed_at_yr</th>\n",
       "      <th>state_changed_at_hr</th>\n",
       "      <th>created_at_month</th>\n",
       "      <th>created_at_day</th>\n",
       "      <th>created_at_yr</th>\n",
       "      <th>created_at_hr</th>\n",
       "      <th>launched_at_month</th>\n",
       "      <th>launched_at_day</th>\n",
       "      <th>launched_at_yr</th>\n",
       "      <th>launched_at_hr</th>\n",
       "      <th>create_to_launch_days</th>\n",
       "      <th>launch_to_deadline_days</th>\n",
       "      <th>launch_to_state_change_days</th>\n",
       "    </tr>\n",
       "    <tr>\n",
       "      <th>project_id</th>\n",
       "      <th></th>\n",
       "      <th></th>\n",
       "      <th></th>\n",
       "      <th></th>\n",
       "      <th></th>\n",
       "      <th></th>\n",
       "      <th></th>\n",
       "      <th></th>\n",
       "      <th></th>\n",
       "      <th></th>\n",
       "      <th></th>\n",
       "      <th></th>\n",
       "      <th></th>\n",
       "      <th></th>\n",
       "      <th></th>\n",
       "      <th></th>\n",
       "      <th></th>\n",
       "      <th></th>\n",
       "      <th></th>\n",
       "      <th></th>\n",
       "      <th></th>\n",
       "      <th></th>\n",
       "      <th></th>\n",
       "      <th></th>\n",
       "      <th></th>\n",
       "      <th></th>\n",
       "      <th></th>\n",
       "      <th></th>\n",
       "      <th></th>\n",
       "      <th></th>\n",
       "      <th></th>\n",
       "      <th></th>\n",
       "      <th></th>\n",
       "      <th></th>\n",
       "      <th></th>\n",
       "      <th></th>\n",
       "      <th></th>\n",
       "      <th></th>\n",
       "      <th></th>\n",
       "      <th></th>\n",
       "      <th></th>\n",
       "      <th></th>\n",
       "      <th></th>\n",
       "      <th></th>\n",
       "    </tr>\n",
       "  </thead>\n",
       "  <tbody>\n",
       "    <tr>\n",
       "      <th>14042</th>\n",
       "      <td>Elysian Tuned Aperture Pickups for Electric Gu...</td>\n",
       "      <td>15000.0</td>\n",
       "      <td>4257.00</td>\n",
       "      <td>failed</td>\n",
       "      <td>False</td>\n",
       "      <td>US</td>\n",
       "      <td>USD</td>\n",
       "      <td>2015-04-05T12:42:40</td>\n",
       "      <td>2015-04-05T12:42:41</td>\n",
       "      <td>2015-03-01T10:36:46</td>\n",
       "      <td>2015-03-06T12:42:40</td>\n",
       "      <td>False</td>\n",
       "      <td>35</td>\n",
       "      <td>1.000000</td>\n",
       "      <td>4257.000000</td>\n",
       "      <td>Hardware</td>\n",
       "      <td>False</td>\n",
       "      <td>9.0</td>\n",
       "      <td>8.0</td>\n",
       "      <td>21.0</td>\n",
       "      <td>17.0</td>\n",
       "      <td>Sunday</td>\n",
       "      <td>Sunday</td>\n",
       "      <td>Sunday</td>\n",
       "      <td>Friday</td>\n",
       "      <td>4</td>\n",
       "      <td>5</td>\n",
       "      <td>2015</td>\n",
       "      <td>12</td>\n",
       "      <td>4</td>\n",
       "      <td>5</td>\n",
       "      <td>2015</td>\n",
       "      <td>12</td>\n",
       "      <td>3</td>\n",
       "      <td>1</td>\n",
       "      <td>2015</td>\n",
       "      <td>10</td>\n",
       "      <td>3</td>\n",
       "      <td>6</td>\n",
       "      <td>2015</td>\n",
       "      <td>12</td>\n",
       "      <td>5</td>\n",
       "      <td>30</td>\n",
       "      <td>NaN</td>\n",
       "    </tr>\n",
       "    <tr>\n",
       "      <th>767</th>\n",
       "      <td>Linker</td>\n",
       "      <td>4000.0</td>\n",
       "      <td>51.00</td>\n",
       "      <td>failed</td>\n",
       "      <td>False</td>\n",
       "      <td>CA</td>\n",
       "      <td>CAD</td>\n",
       "      <td>2014-12-26T08:45:09</td>\n",
       "      <td>2014-12-26T08:45:25</td>\n",
       "      <td>2014-08-28T09:45:56</td>\n",
       "      <td>2014-10-27T08:45:09</td>\n",
       "      <td>False</td>\n",
       "      <td>2</td>\n",
       "      <td>0.890047</td>\n",
       "      <td>45.392404</td>\n",
       "      <td>Apps</td>\n",
       "      <td>False</td>\n",
       "      <td>1.0</td>\n",
       "      <td>1.0</td>\n",
       "      <td>3.0</td>\n",
       "      <td>3.0</td>\n",
       "      <td>Friday</td>\n",
       "      <td>Friday</td>\n",
       "      <td>Thursday</td>\n",
       "      <td>Monday</td>\n",
       "      <td>12</td>\n",
       "      <td>26</td>\n",
       "      <td>2014</td>\n",
       "      <td>8</td>\n",
       "      <td>12</td>\n",
       "      <td>26</td>\n",
       "      <td>2014</td>\n",
       "      <td>8</td>\n",
       "      <td>8</td>\n",
       "      <td>28</td>\n",
       "      <td>2014</td>\n",
       "      <td>9</td>\n",
       "      <td>10</td>\n",
       "      <td>27</td>\n",
       "      <td>2014</td>\n",
       "      <td>8</td>\n",
       "      <td>59</td>\n",
       "      <td>60</td>\n",
       "      <td>NaN</td>\n",
       "    </tr>\n",
       "    <tr>\n",
       "      <th>2128</th>\n",
       "      <td>Making the Move--Edinburgh Fringe 2014</td>\n",
       "      <td>7750.0</td>\n",
       "      <td>7860.00</td>\n",
       "      <td>successful</td>\n",
       "      <td>False</td>\n",
       "      <td>US</td>\n",
       "      <td>USD</td>\n",
       "      <td>2014-08-19T11:00:00</td>\n",
       "      <td>2014-08-19T11:00:10</td>\n",
       "      <td>2014-07-30T02:32:04</td>\n",
       "      <td>2014-07-31T13:30:45</td>\n",
       "      <td>False</td>\n",
       "      <td>26</td>\n",
       "      <td>1.000000</td>\n",
       "      <td>7860.000000</td>\n",
       "      <td>Plays</td>\n",
       "      <td>True</td>\n",
       "      <td>5.0</td>\n",
       "      <td>4.0</td>\n",
       "      <td>25.0</td>\n",
       "      <td>17.0</td>\n",
       "      <td>Tuesday</td>\n",
       "      <td>Tuesday</td>\n",
       "      <td>Wednesday</td>\n",
       "      <td>Thursday</td>\n",
       "      <td>8</td>\n",
       "      <td>19</td>\n",
       "      <td>2014</td>\n",
       "      <td>11</td>\n",
       "      <td>8</td>\n",
       "      <td>19</td>\n",
       "      <td>2014</td>\n",
       "      <td>11</td>\n",
       "      <td>7</td>\n",
       "      <td>30</td>\n",
       "      <td>2014</td>\n",
       "      <td>2</td>\n",
       "      <td>7</td>\n",
       "      <td>31</td>\n",
       "      <td>2014</td>\n",
       "      <td>13</td>\n",
       "      <td>1</td>\n",
       "      <td>18</td>\n",
       "      <td>18.0</td>\n",
       "    </tr>\n",
       "    <tr>\n",
       "      <th>17449</th>\n",
       "      <td>Apple Usb Cable Protector</td>\n",
       "      <td>5000.0</td>\n",
       "      <td>1633.00</td>\n",
       "      <td>failed</td>\n",
       "      <td>False</td>\n",
       "      <td>FR</td>\n",
       "      <td>EUR</td>\n",
       "      <td>2015-10-18T16:00:20</td>\n",
       "      <td>2015-10-18T16:00:20</td>\n",
       "      <td>2015-08-16T12:24:07</td>\n",
       "      <td>2015-08-19T16:00:20</td>\n",
       "      <td>False</td>\n",
       "      <td>46</td>\n",
       "      <td>1.107810</td>\n",
       "      <td>1809.053469</td>\n",
       "      <td>Gadgets</td>\n",
       "      <td>False</td>\n",
       "      <td>4.0</td>\n",
       "      <td>4.0</td>\n",
       "      <td>21.0</td>\n",
       "      <td>15.0</td>\n",
       "      <td>Sunday</td>\n",
       "      <td>Sunday</td>\n",
       "      <td>Sunday</td>\n",
       "      <td>Wednesday</td>\n",
       "      <td>10</td>\n",
       "      <td>18</td>\n",
       "      <td>2015</td>\n",
       "      <td>16</td>\n",
       "      <td>10</td>\n",
       "      <td>18</td>\n",
       "      <td>2015</td>\n",
       "      <td>16</td>\n",
       "      <td>8</td>\n",
       "      <td>16</td>\n",
       "      <td>2015</td>\n",
       "      <td>12</td>\n",
       "      <td>8</td>\n",
       "      <td>19</td>\n",
       "      <td>2015</td>\n",
       "      <td>16</td>\n",
       "      <td>3</td>\n",
       "      <td>60</td>\n",
       "      <td>NaN</td>\n",
       "    </tr>\n",
       "    <tr>\n",
       "      <th>10959</th>\n",
       "      <td>Simple Work Attendance Sheet (S.work.a.S.)</td>\n",
       "      <td>1300.0</td>\n",
       "      <td>16.00</td>\n",
       "      <td>failed</td>\n",
       "      <td>False</td>\n",
       "      <td>IT</td>\n",
       "      <td>EUR</td>\n",
       "      <td>2015-11-06T08:49:35</td>\n",
       "      <td>2015-11-06T08:49:35</td>\n",
       "      <td>2015-09-15T11:36:44</td>\n",
       "      <td>2015-10-12T08:49:35</td>\n",
       "      <td>False</td>\n",
       "      <td>1</td>\n",
       "      <td>1.135892</td>\n",
       "      <td>18.174280</td>\n",
       "      <td>Software</td>\n",
       "      <td>False</td>\n",
       "      <td>5.0</td>\n",
       "      <td>5.0</td>\n",
       "      <td>23.0</td>\n",
       "      <td>12.0</td>\n",
       "      <td>Friday</td>\n",
       "      <td>Friday</td>\n",
       "      <td>Tuesday</td>\n",
       "      <td>Monday</td>\n",
       "      <td>11</td>\n",
       "      <td>6</td>\n",
       "      <td>2015</td>\n",
       "      <td>8</td>\n",
       "      <td>11</td>\n",
       "      <td>6</td>\n",
       "      <td>2015</td>\n",
       "      <td>8</td>\n",
       "      <td>9</td>\n",
       "      <td>15</td>\n",
       "      <td>2015</td>\n",
       "      <td>11</td>\n",
       "      <td>10</td>\n",
       "      <td>12</td>\n",
       "      <td>2015</td>\n",
       "      <td>8</td>\n",
       "      <td>26</td>\n",
       "      <td>25</td>\n",
       "      <td>NaN</td>\n",
       "    </tr>\n",
       "    <tr>\n",
       "      <th>...</th>\n",
       "      <td>...</td>\n",
       "      <td>...</td>\n",
       "      <td>...</td>\n",
       "      <td>...</td>\n",
       "      <td>...</td>\n",
       "      <td>...</td>\n",
       "      <td>...</td>\n",
       "      <td>...</td>\n",
       "      <td>...</td>\n",
       "      <td>...</td>\n",
       "      <td>...</td>\n",
       "      <td>...</td>\n",
       "      <td>...</td>\n",
       "      <td>...</td>\n",
       "      <td>...</td>\n",
       "      <td>...</td>\n",
       "      <td>...</td>\n",
       "      <td>...</td>\n",
       "      <td>...</td>\n",
       "      <td>...</td>\n",
       "      <td>...</td>\n",
       "      <td>...</td>\n",
       "      <td>...</td>\n",
       "      <td>...</td>\n",
       "      <td>...</td>\n",
       "      <td>...</td>\n",
       "      <td>...</td>\n",
       "      <td>...</td>\n",
       "      <td>...</td>\n",
       "      <td>...</td>\n",
       "      <td>...</td>\n",
       "      <td>...</td>\n",
       "      <td>...</td>\n",
       "      <td>...</td>\n",
       "      <td>...</td>\n",
       "      <td>...</td>\n",
       "      <td>...</td>\n",
       "      <td>...</td>\n",
       "      <td>...</td>\n",
       "      <td>...</td>\n",
       "      <td>...</td>\n",
       "      <td>...</td>\n",
       "      <td>...</td>\n",
       "      <td>...</td>\n",
       "    </tr>\n",
       "    <tr>\n",
       "      <th>17006</th>\n",
       "      <td>The Adventure Field Journal</td>\n",
       "      <td>12000.0</td>\n",
       "      <td>100.00</td>\n",
       "      <td>failed</td>\n",
       "      <td>False</td>\n",
       "      <td>US</td>\n",
       "      <td>USD</td>\n",
       "      <td>2016-07-04T22:59:00</td>\n",
       "      <td>2016-07-04T22:59:02</td>\n",
       "      <td>2016-06-07T14:08:47</td>\n",
       "      <td>2016-06-08T17:38:07</td>\n",
       "      <td>False</td>\n",
       "      <td>2</td>\n",
       "      <td>1.000000</td>\n",
       "      <td>100.000000</td>\n",
       "      <td>Gadgets</td>\n",
       "      <td>False</td>\n",
       "      <td>4.0</td>\n",
       "      <td>4.0</td>\n",
       "      <td>14.0</td>\n",
       "      <td>10.0</td>\n",
       "      <td>Monday</td>\n",
       "      <td>Monday</td>\n",
       "      <td>Tuesday</td>\n",
       "      <td>Wednesday</td>\n",
       "      <td>7</td>\n",
       "      <td>4</td>\n",
       "      <td>2016</td>\n",
       "      <td>22</td>\n",
       "      <td>7</td>\n",
       "      <td>4</td>\n",
       "      <td>2016</td>\n",
       "      <td>22</td>\n",
       "      <td>6</td>\n",
       "      <td>7</td>\n",
       "      <td>2016</td>\n",
       "      <td>14</td>\n",
       "      <td>6</td>\n",
       "      <td>8</td>\n",
       "      <td>2016</td>\n",
       "      <td>17</td>\n",
       "      <td>1</td>\n",
       "      <td>26</td>\n",
       "      <td>NaN</td>\n",
       "    </tr>\n",
       "    <tr>\n",
       "      <th>17425</th>\n",
       "      <td>rolling shoulder</td>\n",
       "      <td>40000.0</td>\n",
       "      <td>2.00</td>\n",
       "      <td>failed</td>\n",
       "      <td>False</td>\n",
       "      <td>IT</td>\n",
       "      <td>EUR</td>\n",
       "      <td>2016-01-20T09:21:52</td>\n",
       "      <td>2016-01-20T09:21:52</td>\n",
       "      <td>2015-12-18T07:39:43</td>\n",
       "      <td>2015-12-21T09:21:52</td>\n",
       "      <td>False</td>\n",
       "      <td>2</td>\n",
       "      <td>1.079775</td>\n",
       "      <td>2.159550</td>\n",
       "      <td>Gadgets</td>\n",
       "      <td>False</td>\n",
       "      <td>2.0</td>\n",
       "      <td>2.0</td>\n",
       "      <td>13.0</td>\n",
       "      <td>10.0</td>\n",
       "      <td>Wednesday</td>\n",
       "      <td>Wednesday</td>\n",
       "      <td>Friday</td>\n",
       "      <td>Monday</td>\n",
       "      <td>1</td>\n",
       "      <td>20</td>\n",
       "      <td>2016</td>\n",
       "      <td>9</td>\n",
       "      <td>1</td>\n",
       "      <td>20</td>\n",
       "      <td>2016</td>\n",
       "      <td>9</td>\n",
       "      <td>12</td>\n",
       "      <td>18</td>\n",
       "      <td>2015</td>\n",
       "      <td>7</td>\n",
       "      <td>12</td>\n",
       "      <td>21</td>\n",
       "      <td>2015</td>\n",
       "      <td>9</td>\n",
       "      <td>3</td>\n",
       "      <td>30</td>\n",
       "      <td>NaN</td>\n",
       "    </tr>\n",
       "    <tr>\n",
       "      <th>9324</th>\n",
       "      <td>Hypothes.is - Taking peer review to the Internet.</td>\n",
       "      <td>100000.0</td>\n",
       "      <td>105786.99</td>\n",
       "      <td>successful</td>\n",
       "      <td>False</td>\n",
       "      <td>US</td>\n",
       "      <td>USD</td>\n",
       "      <td>2011-11-13T23:00:00</td>\n",
       "      <td>2011-11-13T23:00:30</td>\n",
       "      <td>2011-09-17T15:59:13</td>\n",
       "      <td>2011-09-30T17:57:43</td>\n",
       "      <td>True</td>\n",
       "      <td>791</td>\n",
       "      <td>1.000000</td>\n",
       "      <td>105786.990000</td>\n",
       "      <td>Software</td>\n",
       "      <td>True</td>\n",
       "      <td>8.0</td>\n",
       "      <td>6.0</td>\n",
       "      <td>10.0</td>\n",
       "      <td>8.0</td>\n",
       "      <td>Sunday</td>\n",
       "      <td>Sunday</td>\n",
       "      <td>Saturday</td>\n",
       "      <td>Friday</td>\n",
       "      <td>11</td>\n",
       "      <td>13</td>\n",
       "      <td>2011</td>\n",
       "      <td>23</td>\n",
       "      <td>11</td>\n",
       "      <td>13</td>\n",
       "      <td>2011</td>\n",
       "      <td>23</td>\n",
       "      <td>9</td>\n",
       "      <td>17</td>\n",
       "      <td>2011</td>\n",
       "      <td>15</td>\n",
       "      <td>9</td>\n",
       "      <td>30</td>\n",
       "      <td>2011</td>\n",
       "      <td>17</td>\n",
       "      <td>13</td>\n",
       "      <td>44</td>\n",
       "      <td>44.0</td>\n",
       "    </tr>\n",
       "    <tr>\n",
       "      <th>18410</th>\n",
       "      <td>Do it Yourself Garage</td>\n",
       "      <td>70000.0</td>\n",
       "      <td>0.00</td>\n",
       "      <td>failed</td>\n",
       "      <td>False</td>\n",
       "      <td>US</td>\n",
       "      <td>USD</td>\n",
       "      <td>2015-05-28T07:07:16</td>\n",
       "      <td>2015-05-28T07:07:20</td>\n",
       "      <td>2015-04-25T04:47:12</td>\n",
       "      <td>2015-04-28T07:07:16</td>\n",
       "      <td>False</td>\n",
       "      <td>0</td>\n",
       "      <td>1.000000</td>\n",
       "      <td>0.000000</td>\n",
       "      <td>NaN</td>\n",
       "      <td>False</td>\n",
       "      <td>4.0</td>\n",
       "      <td>3.0</td>\n",
       "      <td>15.0</td>\n",
       "      <td>7.0</td>\n",
       "      <td>Thursday</td>\n",
       "      <td>Thursday</td>\n",
       "      <td>Saturday</td>\n",
       "      <td>Tuesday</td>\n",
       "      <td>5</td>\n",
       "      <td>28</td>\n",
       "      <td>2015</td>\n",
       "      <td>7</td>\n",
       "      <td>5</td>\n",
       "      <td>28</td>\n",
       "      <td>2015</td>\n",
       "      <td>7</td>\n",
       "      <td>4</td>\n",
       "      <td>25</td>\n",
       "      <td>2015</td>\n",
       "      <td>4</td>\n",
       "      <td>4</td>\n",
       "      <td>28</td>\n",
       "      <td>2015</td>\n",
       "      <td>7</td>\n",
       "      <td>3</td>\n",
       "      <td>30</td>\n",
       "      <td>NaN</td>\n",
       "    </tr>\n",
       "    <tr>\n",
       "      <th>146</th>\n",
       "      <td>SoundScape - A New Album From DJ G</td>\n",
       "      <td>3500.0</td>\n",
       "      <td>7.00</td>\n",
       "      <td>failed</td>\n",
       "      <td>False</td>\n",
       "      <td>US</td>\n",
       "      <td>USD</td>\n",
       "      <td>2014-05-04T09:21:54</td>\n",
       "      <td>2014-05-04T09:21:54</td>\n",
       "      <td>2014-03-17T10:52:58</td>\n",
       "      <td>2014-04-04T09:21:54</td>\n",
       "      <td>False</td>\n",
       "      <td>2</td>\n",
       "      <td>1.000000</td>\n",
       "      <td>7.000000</td>\n",
       "      <td>NaN</td>\n",
       "      <td>False</td>\n",
       "      <td>8.0</td>\n",
       "      <td>8.0</td>\n",
       "      <td>27.0</td>\n",
       "      <td>13.0</td>\n",
       "      <td>Sunday</td>\n",
       "      <td>Sunday</td>\n",
       "      <td>Monday</td>\n",
       "      <td>Friday</td>\n",
       "      <td>5</td>\n",
       "      <td>4</td>\n",
       "      <td>2014</td>\n",
       "      <td>9</td>\n",
       "      <td>5</td>\n",
       "      <td>4</td>\n",
       "      <td>2014</td>\n",
       "      <td>9</td>\n",
       "      <td>3</td>\n",
       "      <td>17</td>\n",
       "      <td>2014</td>\n",
       "      <td>10</td>\n",
       "      <td>4</td>\n",
       "      <td>4</td>\n",
       "      <td>2014</td>\n",
       "      <td>9</td>\n",
       "      <td>17</td>\n",
       "      <td>30</td>\n",
       "      <td>NaN</td>\n",
       "    </tr>\n",
       "  </tbody>\n",
       "</table>\n",
       "<p>18568 rows × 44 columns</p>\n",
       "</div>\n",
       "      <button class=\"colab-df-convert\" onclick=\"convertToInteractive('df-1259f497-ac3a-4869-b3fc-6e7e736ea391')\"\n",
       "              title=\"Convert this dataframe to an interactive table.\"\n",
       "              style=\"display:none;\">\n",
       "        \n",
       "  <svg xmlns=\"http://www.w3.org/2000/svg\" height=\"24px\"viewBox=\"0 0 24 24\"\n",
       "       width=\"24px\">\n",
       "    <path d=\"M0 0h24v24H0V0z\" fill=\"none\"/>\n",
       "    <path d=\"M18.56 5.44l.94 2.06.94-2.06 2.06-.94-2.06-.94-.94-2.06-.94 2.06-2.06.94zm-11 1L8.5 8.5l.94-2.06 2.06-.94-2.06-.94L8.5 2.5l-.94 2.06-2.06.94zm10 10l.94 2.06.94-2.06 2.06-.94-2.06-.94-.94-2.06-.94 2.06-2.06.94z\"/><path d=\"M17.41 7.96l-1.37-1.37c-.4-.4-.92-.59-1.43-.59-.52 0-1.04.2-1.43.59L10.3 9.45l-7.72 7.72c-.78.78-.78 2.05 0 2.83L4 21.41c.39.39.9.59 1.41.59.51 0 1.02-.2 1.41-.59l7.78-7.78 2.81-2.81c.8-.78.8-2.07 0-2.86zM5.41 20L4 18.59l7.72-7.72 1.47 1.35L5.41 20z\"/>\n",
       "  </svg>\n",
       "      </button>\n",
       "      \n",
       "  <style>\n",
       "    .colab-df-container {\n",
       "      display:flex;\n",
       "      flex-wrap:wrap;\n",
       "      gap: 12px;\n",
       "    }\n",
       "\n",
       "    .colab-df-convert {\n",
       "      background-color: #E8F0FE;\n",
       "      border: none;\n",
       "      border-radius: 50%;\n",
       "      cursor: pointer;\n",
       "      display: none;\n",
       "      fill: #1967D2;\n",
       "      height: 32px;\n",
       "      padding: 0 0 0 0;\n",
       "      width: 32px;\n",
       "    }\n",
       "\n",
       "    .colab-df-convert:hover {\n",
       "      background-color: #E2EBFA;\n",
       "      box-shadow: 0px 1px 2px rgba(60, 64, 67, 0.3), 0px 1px 3px 1px rgba(60, 64, 67, 0.15);\n",
       "      fill: #174EA6;\n",
       "    }\n",
       "\n",
       "    [theme=dark] .colab-df-convert {\n",
       "      background-color: #3B4455;\n",
       "      fill: #D2E3FC;\n",
       "    }\n",
       "\n",
       "    [theme=dark] .colab-df-convert:hover {\n",
       "      background-color: #434B5C;\n",
       "      box-shadow: 0px 1px 3px 1px rgba(0, 0, 0, 0.15);\n",
       "      filter: drop-shadow(0px 1px 2px rgba(0, 0, 0, 0.3));\n",
       "      fill: #FFFFFF;\n",
       "    }\n",
       "  </style>\n",
       "\n",
       "      <script>\n",
       "        const buttonEl =\n",
       "          document.querySelector('#df-1259f497-ac3a-4869-b3fc-6e7e736ea391 button.colab-df-convert');\n",
       "        buttonEl.style.display =\n",
       "          google.colab.kernel.accessAllowed ? 'block' : 'none';\n",
       "\n",
       "        async function convertToInteractive(key) {\n",
       "          const element = document.querySelector('#df-1259f497-ac3a-4869-b3fc-6e7e736ea391');\n",
       "          const dataTable =\n",
       "            await google.colab.kernel.invokeFunction('convertToInteractive',\n",
       "                                                     [key], {});\n",
       "          if (!dataTable) return;\n",
       "\n",
       "          const docLinkHtml = 'Like what you see? Visit the ' +\n",
       "            '<a target=\"_blank\" href=https://colab.research.google.com/notebooks/data_table.ipynb>data table notebook</a>'\n",
       "            + ' to learn more about interactive tables.';\n",
       "          element.innerHTML = '';\n",
       "          dataTable['output_type'] = 'display_data';\n",
       "          await google.colab.output.renderOutput(dataTable, element);\n",
       "          const docLink = document.createElement('div');\n",
       "          docLink.innerHTML = docLinkHtml;\n",
       "          element.appendChild(docLink);\n",
       "        }\n",
       "      </script>\n",
       "    </div>\n",
       "  </div>\n",
       "  "
      ],
      "text/plain": [
       "                                                         name  ...  launch_to_state_change_days\n",
       "project_id                                                     ...                             \n",
       "14042       Elysian Tuned Aperture Pickups for Electric Gu...  ...                          NaN\n",
       "767                                                    Linker  ...                          NaN\n",
       "2128                   Making the Move--Edinburgh Fringe 2014  ...                         18.0\n",
       "17449                               Apple Usb Cable Protector  ...                          NaN\n",
       "10959              Simple Work Attendance Sheet (S.work.a.S.)  ...                          NaN\n",
       "...                                                       ...  ...                          ...\n",
       "17006                             The Adventure Field Journal  ...                          NaN\n",
       "17425                                        rolling shoulder  ...                          NaN\n",
       "9324        Hypothes.is - Taking peer review to the Internet.  ...                         44.0\n",
       "18410                                   Do it Yourself Garage  ...                          NaN\n",
       "146                        SoundScape - A New Album From DJ G  ...                          NaN\n",
       "\n",
       "[18568 rows x 44 columns]"
      ]
     },
     "execution_count": 6,
     "metadata": {},
     "output_type": "execute_result"
    }
   ],
   "source": [
    "df"
   ]
  },
  {
   "cell_type": "markdown",
   "metadata": {
    "id": "mkepaX01OP80"
   },
   "source": [
    "### 2.2 Set predictors and outcome variable"
   ]
  },
  {
   "cell_type": "code",
   "execution_count": null,
   "metadata": {
    "ExecuteTime": {
     "end_time": "2022-02-24T01:26:36.011421Z",
     "start_time": "2022-02-24T01:26:35.994397Z"
    },
    "colab": {
     "base_uri": "https://localhost:8080/"
    },
    "id": "0VPpsh3gaED-",
    "outputId": "989f002f-59a6-4a4e-c3c2-b2056593c9b6"
   },
   "outputs": [
    {
     "data": {
      "text/plain": [
       "state\n",
       "canceled       2214\n",
       "failed        10299\n",
       "live            462\n",
       "successful     5386\n",
       "suspended       207\n",
       "Name: state, dtype: int64"
      ]
     },
     "execution_count": 7,
     "metadata": {},
     "output_type": "execute_result"
    }
   ],
   "source": [
    "df.groupby('state')['state'].count()"
   ]
  },
  {
   "cell_type": "code",
   "execution_count": null,
   "metadata": {
    "ExecuteTime": {
     "end_time": "2022-02-24T01:26:36.034161Z",
     "start_time": "2022-02-24T01:26:36.019686Z"
    },
    "id": "GzTGLiNPafRL"
   },
   "outputs": [],
   "source": [
    "df=df[~df['state'].isin(['canceled','live','suspended'])]"
   ]
  },
  {
   "cell_type": "code",
   "execution_count": null,
   "metadata": {
    "ExecuteTime": {
     "end_time": "2022-02-24T01:26:36.052368Z",
     "start_time": "2022-02-24T01:26:36.039939Z"
    },
    "id": "l4UubhG0Kc_v"
   },
   "outputs": [],
   "source": [
    "# df['state'] = np.where(df['state'] == 'successful', 1, df['state'])\n",
    "# df['state'] = np.where(df['state'] == 'failed', 0, df['state'])\n",
    "df['state'] = np.where(df['state'] == 'successful', 1, 0)"
   ]
  },
  {
   "cell_type": "code",
   "execution_count": null,
   "metadata": {
    "ExecuteTime": {
     "end_time": "2022-02-24T01:26:36.090994Z",
     "start_time": "2022-02-24T01:26:36.057995Z"
    },
    "colab": {
     "base_uri": "https://localhost:8080/"
    },
    "id": "wkgO0GgdiuHA",
    "outputId": "3ac5485b-d1f4-451f-ae24-82d2c56bc8aa"
   },
   "outputs": [
    {
     "data": {
      "text/plain": [
       "0    10299\n",
       "1     5386\n",
       "Name: state, dtype: int64"
      ]
     },
     "execution_count": 10,
     "metadata": {},
     "output_type": "execute_result"
    }
   ],
   "source": [
    "df['state'].value_counts()"
   ]
  },
  {
   "cell_type": "code",
   "execution_count": null,
   "metadata": {
    "ExecuteTime": {
     "end_time": "2022-02-24T01:26:36.113114Z",
     "start_time": "2022-02-24T01:26:36.094226Z"
    },
    "id": "VU2untgqLQWM"
   },
   "outputs": [],
   "source": [
    "df=df.rename(columns = {'state':'success'})"
   ]
  },
  {
   "cell_type": "code",
   "execution_count": null,
   "metadata": {
    "ExecuteTime": {
     "end_time": "2022-02-24T01:26:36.139695Z",
     "start_time": "2022-02-24T01:26:36.115986Z"
    },
    "id": "7vf8BrH7Mc4t"
   },
   "outputs": [],
   "source": [
    "df = df[['success','goal','name_len_clean','create_to_launch_days','launch_to_deadline_days']]"
   ]
  },
  {
   "cell_type": "code",
   "execution_count": null,
   "metadata": {
    "ExecuteTime": {
     "end_time": "2022-02-24T01:26:36.203348Z",
     "start_time": "2022-02-24T01:26:36.143201Z"
    },
    "id": "QqtefyxEQ0cR"
   },
   "outputs": [],
   "source": [
    "df.replace([np.inf, -np.inf], np.nan, inplace=True)\n",
    "df.dropna(inplace=True)"
   ]
  },
  {
   "cell_type": "code",
   "execution_count": null,
   "metadata": {
    "ExecuteTime": {
     "end_time": "2022-02-24T01:26:36.246674Z",
     "start_time": "2022-02-24T01:26:36.223250Z"
    },
    "colab": {
     "base_uri": "https://localhost:8080/"
    },
    "id": "gGJ_Wt_WbAqr",
    "outputId": "c592fdaa-055e-44a1-ab95-d593ef573aef"
   },
   "outputs": [
    {
     "name": "stdout",
     "output_type": "stream",
     "text": [
      "<class 'pandas.core.frame.DataFrame'>\n",
      "Int64Index: 15685 entries, 14042 to 146\n",
      "Data columns (total 5 columns):\n",
      " #   Column                   Non-Null Count  Dtype  \n",
      "---  ------                   --------------  -----  \n",
      " 0   success                  15685 non-null  int64  \n",
      " 1   goal                     15685 non-null  float64\n",
      " 2   name_len_clean           15685 non-null  float64\n",
      " 3   create_to_launch_days    15685 non-null  int64  \n",
      " 4   launch_to_deadline_days  15685 non-null  int64  \n",
      "dtypes: float64(2), int64(3)\n",
      "memory usage: 735.2 KB\n"
     ]
    }
   ],
   "source": [
    "df.info()"
   ]
  },
  {
   "cell_type": "code",
   "execution_count": null,
   "metadata": {
    "ExecuteTime": {
     "end_time": "2022-02-24T01:26:36.276906Z",
     "start_time": "2022-02-24T01:26:36.250243Z"
    },
    "colab": {
     "base_uri": "https://localhost:8080/",
     "height": 455
    },
    "id": "4n5xS8qUiuHD",
    "outputId": "1c6e9f01-8abd-4323-a979-13fb0d67534e"
   },
   "outputs": [
    {
     "data": {
      "text/html": [
       "\n",
       "  <div id=\"df-80d3b5c6-4bc9-40a5-ac28-544085e735cb\">\n",
       "    <div class=\"colab-df-container\">\n",
       "      <div>\n",
       "<style scoped>\n",
       "    .dataframe tbody tr th:only-of-type {\n",
       "        vertical-align: middle;\n",
       "    }\n",
       "\n",
       "    .dataframe tbody tr th {\n",
       "        vertical-align: top;\n",
       "    }\n",
       "\n",
       "    .dataframe thead th {\n",
       "        text-align: right;\n",
       "    }\n",
       "</style>\n",
       "<table border=\"1\" class=\"dataframe\">\n",
       "  <thead>\n",
       "    <tr style=\"text-align: right;\">\n",
       "      <th></th>\n",
       "      <th>success</th>\n",
       "      <th>goal</th>\n",
       "      <th>name_len_clean</th>\n",
       "      <th>create_to_launch_days</th>\n",
       "      <th>launch_to_deadline_days</th>\n",
       "    </tr>\n",
       "    <tr>\n",
       "      <th>project_id</th>\n",
       "      <th></th>\n",
       "      <th></th>\n",
       "      <th></th>\n",
       "      <th></th>\n",
       "      <th></th>\n",
       "    </tr>\n",
       "  </thead>\n",
       "  <tbody>\n",
       "    <tr>\n",
       "      <th>14042</th>\n",
       "      <td>0</td>\n",
       "      <td>15000.0</td>\n",
       "      <td>8.0</td>\n",
       "      <td>5</td>\n",
       "      <td>30</td>\n",
       "    </tr>\n",
       "    <tr>\n",
       "      <th>767</th>\n",
       "      <td>0</td>\n",
       "      <td>4000.0</td>\n",
       "      <td>1.0</td>\n",
       "      <td>59</td>\n",
       "      <td>60</td>\n",
       "    </tr>\n",
       "    <tr>\n",
       "      <th>2128</th>\n",
       "      <td>1</td>\n",
       "      <td>7750.0</td>\n",
       "      <td>4.0</td>\n",
       "      <td>1</td>\n",
       "      <td>18</td>\n",
       "    </tr>\n",
       "    <tr>\n",
       "      <th>17449</th>\n",
       "      <td>0</td>\n",
       "      <td>5000.0</td>\n",
       "      <td>4.0</td>\n",
       "      <td>3</td>\n",
       "      <td>60</td>\n",
       "    </tr>\n",
       "    <tr>\n",
       "      <th>10959</th>\n",
       "      <td>0</td>\n",
       "      <td>1300.0</td>\n",
       "      <td>5.0</td>\n",
       "      <td>26</td>\n",
       "      <td>25</td>\n",
       "    </tr>\n",
       "    <tr>\n",
       "      <th>...</th>\n",
       "      <td>...</td>\n",
       "      <td>...</td>\n",
       "      <td>...</td>\n",
       "      <td>...</td>\n",
       "      <td>...</td>\n",
       "    </tr>\n",
       "    <tr>\n",
       "      <th>17006</th>\n",
       "      <td>0</td>\n",
       "      <td>12000.0</td>\n",
       "      <td>4.0</td>\n",
       "      <td>1</td>\n",
       "      <td>26</td>\n",
       "    </tr>\n",
       "    <tr>\n",
       "      <th>17425</th>\n",
       "      <td>0</td>\n",
       "      <td>40000.0</td>\n",
       "      <td>2.0</td>\n",
       "      <td>3</td>\n",
       "      <td>30</td>\n",
       "    </tr>\n",
       "    <tr>\n",
       "      <th>9324</th>\n",
       "      <td>1</td>\n",
       "      <td>100000.0</td>\n",
       "      <td>6.0</td>\n",
       "      <td>13</td>\n",
       "      <td>44</td>\n",
       "    </tr>\n",
       "    <tr>\n",
       "      <th>18410</th>\n",
       "      <td>0</td>\n",
       "      <td>70000.0</td>\n",
       "      <td>3.0</td>\n",
       "      <td>3</td>\n",
       "      <td>30</td>\n",
       "    </tr>\n",
       "    <tr>\n",
       "      <th>146</th>\n",
       "      <td>0</td>\n",
       "      <td>3500.0</td>\n",
       "      <td>8.0</td>\n",
       "      <td>17</td>\n",
       "      <td>30</td>\n",
       "    </tr>\n",
       "  </tbody>\n",
       "</table>\n",
       "<p>15685 rows × 5 columns</p>\n",
       "</div>\n",
       "      <button class=\"colab-df-convert\" onclick=\"convertToInteractive('df-80d3b5c6-4bc9-40a5-ac28-544085e735cb')\"\n",
       "              title=\"Convert this dataframe to an interactive table.\"\n",
       "              style=\"display:none;\">\n",
       "        \n",
       "  <svg xmlns=\"http://www.w3.org/2000/svg\" height=\"24px\"viewBox=\"0 0 24 24\"\n",
       "       width=\"24px\">\n",
       "    <path d=\"M0 0h24v24H0V0z\" fill=\"none\"/>\n",
       "    <path d=\"M18.56 5.44l.94 2.06.94-2.06 2.06-.94-2.06-.94-.94-2.06-.94 2.06-2.06.94zm-11 1L8.5 8.5l.94-2.06 2.06-.94-2.06-.94L8.5 2.5l-.94 2.06-2.06.94zm10 10l.94 2.06.94-2.06 2.06-.94-2.06-.94-.94-2.06-.94 2.06-2.06.94z\"/><path d=\"M17.41 7.96l-1.37-1.37c-.4-.4-.92-.59-1.43-.59-.52 0-1.04.2-1.43.59L10.3 9.45l-7.72 7.72c-.78.78-.78 2.05 0 2.83L4 21.41c.39.39.9.59 1.41.59.51 0 1.02-.2 1.41-.59l7.78-7.78 2.81-2.81c.8-.78.8-2.07 0-2.86zM5.41 20L4 18.59l7.72-7.72 1.47 1.35L5.41 20z\"/>\n",
       "  </svg>\n",
       "      </button>\n",
       "      \n",
       "  <style>\n",
       "    .colab-df-container {\n",
       "      display:flex;\n",
       "      flex-wrap:wrap;\n",
       "      gap: 12px;\n",
       "    }\n",
       "\n",
       "    .colab-df-convert {\n",
       "      background-color: #E8F0FE;\n",
       "      border: none;\n",
       "      border-radius: 50%;\n",
       "      cursor: pointer;\n",
       "      display: none;\n",
       "      fill: #1967D2;\n",
       "      height: 32px;\n",
       "      padding: 0 0 0 0;\n",
       "      width: 32px;\n",
       "    }\n",
       "\n",
       "    .colab-df-convert:hover {\n",
       "      background-color: #E2EBFA;\n",
       "      box-shadow: 0px 1px 2px rgba(60, 64, 67, 0.3), 0px 1px 3px 1px rgba(60, 64, 67, 0.15);\n",
       "      fill: #174EA6;\n",
       "    }\n",
       "\n",
       "    [theme=dark] .colab-df-convert {\n",
       "      background-color: #3B4455;\n",
       "      fill: #D2E3FC;\n",
       "    }\n",
       "\n",
       "    [theme=dark] .colab-df-convert:hover {\n",
       "      background-color: #434B5C;\n",
       "      box-shadow: 0px 1px 3px 1px rgba(0, 0, 0, 0.15);\n",
       "      filter: drop-shadow(0px 1px 2px rgba(0, 0, 0, 0.3));\n",
       "      fill: #FFFFFF;\n",
       "    }\n",
       "  </style>\n",
       "\n",
       "      <script>\n",
       "        const buttonEl =\n",
       "          document.querySelector('#df-80d3b5c6-4bc9-40a5-ac28-544085e735cb button.colab-df-convert');\n",
       "        buttonEl.style.display =\n",
       "          google.colab.kernel.accessAllowed ? 'block' : 'none';\n",
       "\n",
       "        async function convertToInteractive(key) {\n",
       "          const element = document.querySelector('#df-80d3b5c6-4bc9-40a5-ac28-544085e735cb');\n",
       "          const dataTable =\n",
       "            await google.colab.kernel.invokeFunction('convertToInteractive',\n",
       "                                                     [key], {});\n",
       "          if (!dataTable) return;\n",
       "\n",
       "          const docLinkHtml = 'Like what you see? Visit the ' +\n",
       "            '<a target=\"_blank\" href=https://colab.research.google.com/notebooks/data_table.ipynb>data table notebook</a>'\n",
       "            + ' to learn more about interactive tables.';\n",
       "          element.innerHTML = '';\n",
       "          dataTable['output_type'] = 'display_data';\n",
       "          await google.colab.output.renderOutput(dataTable, element);\n",
       "          const docLink = document.createElement('div');\n",
       "          docLink.innerHTML = docLinkHtml;\n",
       "          element.appendChild(docLink);\n",
       "        }\n",
       "      </script>\n",
       "    </div>\n",
       "  </div>\n",
       "  "
      ],
      "text/plain": [
       "            success      goal  ...  create_to_launch_days  launch_to_deadline_days\n",
       "project_id                     ...                                                \n",
       "14042             0   15000.0  ...                      5                       30\n",
       "767               0    4000.0  ...                     59                       60\n",
       "2128              1    7750.0  ...                      1                       18\n",
       "17449             0    5000.0  ...                      3                       60\n",
       "10959             0    1300.0  ...                     26                       25\n",
       "...             ...       ...  ...                    ...                      ...\n",
       "17006             0   12000.0  ...                      1                       26\n",
       "17425             0   40000.0  ...                      3                       30\n",
       "9324              1  100000.0  ...                     13                       44\n",
       "18410             0   70000.0  ...                      3                       30\n",
       "146               0    3500.0  ...                     17                       30\n",
       "\n",
       "[15685 rows x 5 columns]"
      ]
     },
     "execution_count": 15,
     "metadata": {},
     "output_type": "execute_result"
    }
   ],
   "source": [
    "df"
   ]
  },
  {
   "cell_type": "markdown",
   "metadata": {
    "id": "JPySr7KwMpbM"
   },
   "source": [
    "### 2.3 Data Pre-processing"
   ]
  },
  {
   "cell_type": "code",
   "execution_count": null,
   "metadata": {
    "ExecuteTime": {
     "end_time": "2022-02-24T01:26:36.291181Z",
     "start_time": "2022-02-24T01:26:36.281186Z"
    },
    "id": "3KW6kzKXOt8s"
   },
   "outputs": [],
   "source": [
    "X = df.iloc[:,1:]\n",
    "y = df['success']"
   ]
  },
  {
   "cell_type": "code",
   "execution_count": null,
   "metadata": {
    "ExecuteTime": {
     "end_time": "2022-02-24T01:26:36.310984Z",
     "start_time": "2022-02-24T01:26:36.297016Z"
    },
    "id": "rDA6Sx1ZNjFe"
   },
   "outputs": [],
   "source": [
    "scaler = StandardScaler()\n",
    "X_std = scaler.fit_transform(X)"
   ]
  },
  {
   "cell_type": "code",
   "execution_count": null,
   "metadata": {
    "ExecuteTime": {
     "end_time": "2022-02-24T01:26:36.325388Z",
     "start_time": "2022-02-24T01:26:36.317595Z"
    },
    "id": "K0ljcrYlNjY8"
   },
   "outputs": [],
   "source": [
    "X_train, X_test, y_train, y_test = train_test_split(X_std, np.array(y), test_size=0.33, random_state=42)"
   ]
  },
  {
   "cell_type": "markdown",
   "metadata": {
    "id": "nLGRHPwrPZC5"
   },
   "source": [
    "### 2.4 Applying Logistic Regression with sklearn "
   ]
  },
  {
   "cell_type": "code",
   "execution_count": null,
   "metadata": {
    "ExecuteTime": {
     "end_time": "2022-02-24T01:26:36.375388Z",
     "start_time": "2022-02-24T01:26:36.335913Z"
    },
    "colab": {
     "base_uri": "https://localhost:8080/"
    },
    "id": "epRVg1ZvPWXm",
    "outputId": "9eec8095-c307-4bd1-8528-82f296ced504",
    "scrolled": true
   },
   "outputs": [
    {
     "name": "stdout",
     "output_type": "stream",
     "text": [
      "The results for logistic regression with sklearn: \n",
      "Intercept b0 = -0.9696\n",
      "b1 = -7.2199\n",
      "b2 = 0.4086\n",
      "b3 = 0.0296\n",
      "b4 = -0.2146\n"
     ]
    }
   ],
   "source": [
    "lr = LogisticRegression()\n",
    "model = lr.fit(X_train, y_train)\n",
    "scikit_learn = []\n",
    "print('The results for logistic regression with sklearn: ')\n",
    "print('Intercept b0 =', round(model.intercept_[0],4))\n",
    "scikit_learn.append(round(model.intercept_[0],4))\n",
    "for i in range(len(model.coef_[0])):\n",
    "    print('b'+str(i+1)+' =', round(model.coef_[0][i],4))\n",
    "    scikit_learn.append(round(model.coef_[0][i],4))"
   ]
  },
  {
   "cell_type": "code",
   "execution_count": null,
   "metadata": {
    "ExecuteTime": {
     "end_time": "2022-02-24T01:26:36.391717Z",
     "start_time": "2022-02-24T01:26:36.381833Z"
    },
    "colab": {
     "base_uri": "https://localhost:8080/"
    },
    "id": "aVCBrnMvcVRp",
    "outputId": "272fc89d-1ce3-43c2-97d2-13d1d71fc454"
   },
   "outputs": [
    {
     "name": "stdout",
     "output_type": "stream",
     "text": [
      "The accuracy score of sklearn logistic regression model:  0.663\n"
     ]
    }
   ],
   "source": [
    "y_pred = model.predict(X_test)\n",
    "print('The accuracy score of sklearn logistic regression model: ', \n",
    "      round(accuracy_score(y_test,y_pred),3))\n",
    "scikit_learn.append(round(accuracy_score(y_test,y_pred),3))"
   ]
  },
  {
   "cell_type": "code",
   "execution_count": null,
   "metadata": {
    "ExecuteTime": {
     "end_time": "2022-02-24T01:26:36.411424Z",
     "start_time": "2022-02-24T01:26:36.395629Z"
    },
    "colab": {
     "base_uri": "https://localhost:8080/"
    },
    "id": "UjmPCUIgiuHF",
    "outputId": "feab2459-39a4-473d-bc10-6a29f303109c"
   },
   "outputs": [
    {
     "name": "stdout",
     "output_type": "stream",
     "text": [
      "Confusion matrix:\n",
      "[[3167  224]\n",
      " [1519  267]]\n",
      "F1 score:\n",
      "0.23451910408432147\n"
     ]
    }
   ],
   "source": [
    "from sklearn.metrics import confusion_matrix\n",
    "print('Confusion matrix:')\n",
    "print(confusion_matrix(y_test,y_pred))\n",
    "print('F1 score:')\n",
    "print(f1_score(y_test,y_pred))\n",
    "scikit_learn.append(f1_score(y_test,y_pred))"
   ]
  },
  {
   "cell_type": "markdown",
   "metadata": {
    "id": "qdYbnSQ0ufFM"
   },
   "source": [
    "### 2.5 Applying Home-Made Logistic Regression"
   ]
  },
  {
   "cell_type": "markdown",
   "metadata": {
    "id": "K3Hks-w0iuHG"
   },
   "source": [
    "#### 2.5.1 Batch (Ordinary) Gradient Descent"
   ]
  },
  {
   "cell_type": "code",
   "execution_count": null,
   "metadata": {
    "ExecuteTime": {
     "end_time": "2022-02-24T01:26:43.648568Z",
     "start_time": "2022-02-24T01:26:36.415425Z"
    },
    "colab": {
     "base_uri": "https://localhost:8080/"
    },
    "id": "vWupZG2KiuHG",
    "outputId": "9cba96dc-97a5-40b6-bb11-e283b296940b"
   },
   "outputs": [
    {
     "name": "stdout",
     "output_type": "stream",
     "text": [
      "terminated after 5000 iterations, with cost equal to 6331.270373556473\n",
      "the coefficients found: [-0.98733465 -7.61820293  0.40947663  0.0304532  -0.21325399]\n",
      "The results for self-implemented logistic regression with ordinary gradient descent algorithm: \n",
      "Intercept b0 = -0.9873\n",
      "b1 = -7.6182\n",
      "b2 = 0.4095\n",
      "b3 = 0.0305\n",
      "b4 = -0.2133\n"
     ]
    }
   ],
   "source": [
    "logit1 = Logistic_Regression(order=1, learning_rate=1e-4, decay_rate=0, epsilon=1e-6, epochs= 5000, \n",
    "                             batch_size=len(X_train), momentum=0, threshold=0.5, verbose=True)\n",
    "model1 = logit1.fit(X_train, y_train)\n",
    "ordinary_gradient_descent = []\n",
    "print('The results for self-implemented logistic regression with ordinary gradient descent algorithm: ')\n",
    "print('Intercept b0 =', round(model1.intercept_[0],4))\n",
    "ordinary_gradient_descent.append(round(model1.intercept_[0],4))\n",
    "for i in range(len(model1.coef_[0])):\n",
    "    print('b'+str(i+1)+' =', round(model1.coef_[0][i],4))\n",
    "    ordinary_gradient_descent.append(round(model1.coef_[0][i],4))"
   ]
  },
  {
   "cell_type": "code",
   "execution_count": null,
   "metadata": {
    "ExecuteTime": {
     "end_time": "2022-02-24T01:26:43.714839Z",
     "start_time": "2022-02-24T01:26:43.670472Z"
    },
    "colab": {
     "base_uri": "https://localhost:8080/"
    },
    "id": "4CHD8vciiuHG",
    "outputId": "0582d893-5594-4b0d-e69e-3fe1145f384e"
   },
   "outputs": [
    {
     "name": "stdout",
     "output_type": "stream",
     "text": [
      "The accuracy score of self-implemented logistic regression with ordinary gradient descent algorithm:  0.664\n"
     ]
    }
   ],
   "source": [
    "y_pred1 = model1.predict(X_test)\n",
    "print('The accuracy score of self-implemented logistic regression with ordinary gradient descent algorithm: ', \n",
    "      round(accuracy_score(y_test,y_pred1),3))\n",
    "ordinary_gradient_descent.append(round(accuracy_score(y_test,y_pred1),3))"
   ]
  },
  {
   "cell_type": "code",
   "execution_count": null,
   "metadata": {
    "ExecuteTime": {
     "end_time": "2022-02-24T01:26:43.740623Z",
     "start_time": "2022-02-24T01:26:43.728290Z"
    },
    "colab": {
     "base_uri": "https://localhost:8080/"
    },
    "id": "u4cFpdW-iuHH",
    "outputId": "a438b712-a610-47f7-f598-cdbe9091b971"
   },
   "outputs": [
    {
     "name": "stdout",
     "output_type": "stream",
     "text": [
      "Confusion matrix:\n",
      "[[3164  227]\n",
      " [1513  273]]\n",
      "F1 score:\n",
      "0.23884514435695536\n"
     ]
    }
   ],
   "source": [
    "from sklearn.metrics import confusion_matrix\n",
    "print('Confusion matrix:')\n",
    "print(confusion_matrix(y_test,y_pred1))\n",
    "print('F1 score:')\n",
    "print(f1_score(y_test,y_pred1))\n",
    "ordinary_gradient_descent.append(f1_score(y_test,y_pred1))"
   ]
  },
  {
   "cell_type": "markdown",
   "metadata": {
    "id": "GpDlaaNQiuHH"
   },
   "source": [
    "#### 2.5.2 Stochastic Gradient Descent"
   ]
  },
  {
   "cell_type": "code",
   "execution_count": null,
   "metadata": {
    "ExecuteTime": {
     "end_time": "2022-02-24T02:07:17.212232Z",
     "start_time": "2022-02-24T02:05:28.558283Z"
    },
    "colab": {
     "base_uri": "https://localhost:8080/"
    },
    "id": "oKDEcJsWiuHH",
    "outputId": "626106c9-ea08-461c-b031-465792b8662e"
   },
   "outputs": [
    {
     "name": "stdout",
     "output_type": "stream",
     "text": [
      "terminated after 298350 iterations, with cost equal to 6427.971219266905\n",
      "the coefficients found: [-0.75008861 -1.55325984  0.40274267  0.00405048 -0.23940403]\n",
      "The results for self-implemented logistic regression with stochastic gradient descent algorithm: \n",
      "Intercept b0 = -0.7501\n",
      "b1 = -1.5533\n",
      "b2 = 0.4027\n",
      "b3 = 0.0041\n",
      "b4 = -0.2394\n"
     ]
    }
   ],
   "source": [
    "logit2 = Logistic_Regression(order=1, learning_rate=1e-3, decay_rate=0, epsilon=1e-6, epochs = 32, \n",
    "                             batch_size=1, momentum=0.2, threshold=0.5, verbose=True)\n",
    "model2 = logit2.fit(X_train, y_train)\n",
    "stochastic_gradient_descent = []\n",
    "print('The results for self-implemented logistic regression with stochastic gradient descent algorithm: ')\n",
    "print('Intercept b0 =', round(model2.intercept_[0],4))\n",
    "stochastic_gradient_descent.append(round(model2.intercept_[0],4))\n",
    "for i in range(len(model2.coef_[0])):\n",
    "    print('b'+str(i+1)+' =', round(model2.coef_[0][i],4))\n",
    "    stochastic_gradient_descent.append(round(model2.coef_[0][i],4))"
   ]
  },
  {
   "cell_type": "code",
   "execution_count": null,
   "metadata": {
    "ExecuteTime": {
     "end_time": "2022-02-24T02:07:30.598186Z",
     "start_time": "2022-02-24T02:07:30.585801Z"
    },
    "colab": {
     "base_uri": "https://localhost:8080/"
    },
    "id": "LxuIu6griuHH",
    "outputId": "735b4f96-8c2c-4599-deba-9b78c2ddf6c5"
   },
   "outputs": [
    {
     "name": "stdout",
     "output_type": "stream",
     "text": [
      "The accuracy score of self-implemented logistic regression with stochastic gradient descent algorithm:  0.658\n"
     ]
    }
   ],
   "source": [
    "y_pred2 = model2.predict(X_test)\n",
    "print('The accuracy score of self-implemented logistic regression with stochastic gradient descent algorithm: ', \n",
    "      round(accuracy_score(y_test, y_pred2), 3))\n",
    "stochastic_gradient_descent.append(round(accuracy_score(y_test, y_pred2), 3))"
   ]
  },
  {
   "cell_type": "code",
   "execution_count": null,
   "metadata": {
    "ExecuteTime": {
     "end_time": "2022-02-24T02:07:32.686345Z",
     "start_time": "2022-02-24T02:07:32.673678Z"
    },
    "colab": {
     "base_uri": "https://localhost:8080/"
    },
    "id": "G_oc64c9iuHI",
    "outputId": "24a3b06b-7496-470b-fbb6-b343b1eebd4d"
   },
   "outputs": [
    {
     "name": "stdout",
     "output_type": "stream",
     "text": [
      "Confusion matrix:\n",
      "[[3220  171]\n",
      " [1598  188]]\n",
      "F1 score:\n",
      "0.17529137529137528\n"
     ]
    }
   ],
   "source": [
    "from sklearn.metrics import confusion_matrix\n",
    "print('Confusion matrix:')\n",
    "print(confusion_matrix(y_test, y_pred2))\n",
    "print('F1 score:')\n",
    "print(f1_score(y_test,y_pred2))\n",
    "stochastic_gradient_descent.append(f1_score(y_test, y_pred2))"
   ]
  },
  {
   "cell_type": "markdown",
   "metadata": {
    "id": "SceEto4fiuHI"
   },
   "source": [
    "#### 2.5.3 Mini-Batch Gradient Descent"
   ]
  },
  {
   "cell_type": "code",
   "execution_count": null,
   "metadata": {
    "ExecuteTime": {
     "end_time": "2022-02-24T02:18:38.187293Z",
     "start_time": "2022-02-24T02:13:29.762956Z"
    },
    "colab": {
     "base_uri": "https://localhost:8080/"
    },
    "id": "y2v5McOwiuHI",
    "outputId": "f0237464-889d-4810-dad8-96921cafcd39"
   },
   "outputs": [
    {
     "name": "stdout",
     "output_type": "stream",
     "text": [
      "terminated after 823901 iterations, with cost equal to 6336.150875071815\n",
      "the coefficients found: [-9.67267847e-01 -7.58640181e+00  4.28038638e-01  3.79958715e-03\n",
      " -1.55101259e-01]\n",
      "The results for self-implemented logistic regression with mini-batch gradient descent algorithm: \n",
      "Intercept b0 = -0.9673\n",
      "b1 = -7.5864\n",
      "b2 = 0.428\n",
      "b3 = 0.0038\n",
      "b4 = -0.1551\n"
     ]
    }
   ],
   "source": [
    "logit3 = Logistic_Regression(order=1, learning_rate=1e-4, decay_rate=0, epsilon=1e-6, epochs=5000, \n",
    "                             batch_size=64, momentum=0, threshold=0.5, verbose=True)\n",
    "model3 = logit3.fit(X_train, y_train)\n",
    "mini_batch_gradient_descent = []\n",
    "print('The results for self-implemented logistic regression with mini-batch gradient descent algorithm: ')\n",
    "print('Intercept b0 =', round(model3.intercept_[0],4))\n",
    "mini_batch_gradient_descent.append(round(model3.intercept_[0],4))\n",
    "for i in range(len(model3.coef_[0])):\n",
    "    print('b'+str(i+1)+' =', round(model3.coef_[0][i],4))\n",
    "    mini_batch_gradient_descent.append(round(model3.coef_[0][i],4))"
   ]
  },
  {
   "cell_type": "code",
   "execution_count": null,
   "metadata": {
    "ExecuteTime": {
     "end_time": "2022-02-24T02:18:59.932609Z",
     "start_time": "2022-02-24T02:18:59.922759Z"
    },
    "colab": {
     "base_uri": "https://localhost:8080/"
    },
    "id": "T1GxwH2GiuHI",
    "outputId": "79b2e48a-2004-49fe-b062-a77d793e64eb"
   },
   "outputs": [
    {
     "name": "stdout",
     "output_type": "stream",
     "text": [
      "The accuracy score of self-implemented logistic regression with mini-batch gradient descent algorithm:  0.662\n"
     ]
    }
   ],
   "source": [
    "y_pred3 = model3.predict(X_test)\n",
    "print('The accuracy score of self-implemented logistic regression with mini-batch gradient descent algorithm: ', \n",
    "      round(accuracy_score(y_test,y_pred3),3))\n",
    "mini_batch_gradient_descent.append(round(accuracy_score(y_test,y_pred3),3))"
   ]
  },
  {
   "cell_type": "code",
   "execution_count": null,
   "metadata": {
    "ExecuteTime": {
     "end_time": "2022-02-24T02:19:02.498855Z",
     "start_time": "2022-02-24T02:19:02.485773Z"
    },
    "colab": {
     "base_uri": "https://localhost:8080/"
    },
    "id": "WfEurEZJiuHI",
    "outputId": "03cbf773-3b8c-4ca0-beb7-d3d0aca1a338"
   },
   "outputs": [
    {
     "name": "stdout",
     "output_type": "stream",
     "text": [
      "Confusion matrix:\n",
      "[[3148  243]\n",
      " [1505  281]]\n",
      "F1 score:\n",
      "0.24329004329004328\n"
     ]
    }
   ],
   "source": [
    "from sklearn.metrics import confusion_matrix\n",
    "print('Confusion matrix:')\n",
    "print(confusion_matrix(y_test,y_pred3))\n",
    "print('F1 score:')\n",
    "print(f1_score(y_test,y_pred3))\n",
    "mini_batch_gradient_descent.append(f1_score(y_test,y_pred3))"
   ]
  },
  {
   "cell_type": "markdown",
   "metadata": {
    "id": "NWjFM4SgiuHJ"
   },
   "source": [
    "#### 2.5.4 Newton Method"
   ]
  },
  {
   "cell_type": "code",
   "execution_count": null,
   "metadata": {
    "ExecuteTime": {
     "end_time": "2022-02-24T02:21:34.097779Z",
     "start_time": "2022-02-24T02:21:27.657194Z"
    },
    "colab": {
     "base_uri": "https://localhost:8080/"
    },
    "id": "cwz7ic94iuHJ",
    "outputId": "94ef1718-5522-43bf-ea3f-90a0408b2f75"
   },
   "outputs": [
    {
     "name": "stdout",
     "output_type": "stream",
     "text": [
      "terminated after 11 iterations, with cost equal to 6320.521857482465\n",
      "the coefficients found: [ -1.14728632 -11.11084946   0.41624442   0.03780027  -0.20133573]\n",
      "The results for self-implemented logistic regression with Newton method: \n",
      "Intercept b0 = -1.1473\n",
      "b1 = -11.1108\n",
      "b2 = 0.4162\n",
      "b3 = 0.0378\n",
      "b4 = -0.2013\n"
     ]
    }
   ],
   "source": [
    "logit4 = Logistic_Regression(order=2, epsilon=1e-6, epochs= 5000, threshold=0.5, verbose=True)\n",
    "model4 = logit4.fit(X_train, y_train)\n",
    "newton_method = []\n",
    "print('The results for self-implemented logistic regression with Newton method: ')\n",
    "print('Intercept b0 =', round(model4.intercept_[0],4))\n",
    "newton_method.append(round(model4.intercept_[0],4))\n",
    "for i in range(len(model4.coef_[0])):\n",
    "    print('b'+str(i+1)+' =', round(model4.coef_[0][i],4))\n",
    "    newton_method.append(round(model4.coef_[0][i],4))"
   ]
  },
  {
   "cell_type": "code",
   "execution_count": null,
   "metadata": {
    "ExecuteTime": {
     "end_time": "2022-02-24T02:21:39.361985Z",
     "start_time": "2022-02-24T02:21:39.349918Z"
    },
    "colab": {
     "base_uri": "https://localhost:8080/"
    },
    "id": "q7gIcvfviuHJ",
    "outputId": "834f95b1-2b81-4bc4-c921-2cdcf71720f0"
   },
   "outputs": [
    {
     "name": "stdout",
     "output_type": "stream",
     "text": [
      "The accuracy score of self-implemented logistic regression with Newton method:  0.664\n"
     ]
    }
   ],
   "source": [
    "y_pred4 = model4.predict(X_test)\n",
    "print('The accuracy score of self-implemented logistic regression with Newton method: ', \n",
    "      round(accuracy_score(y_test,y_pred4),3))\n",
    "newton_method.append(round(accuracy_score(y_test,y_pred4),3))"
   ]
  },
  {
   "cell_type": "code",
   "execution_count": null,
   "metadata": {
    "ExecuteTime": {
     "end_time": "2022-02-24T02:21:47.663367Z",
     "start_time": "2022-02-24T02:21:47.651774Z"
    },
    "colab": {
     "base_uri": "https://localhost:8080/"
    },
    "id": "ea0cf1cniuHJ",
    "outputId": "508769cb-c40f-43d8-efd0-6aa39444e412"
   },
   "outputs": [
    {
     "name": "stdout",
     "output_type": "stream",
     "text": [
      "Confusion matrix:\n",
      "[[3138  253]\n",
      " [1487  299]]\n",
      "F1 score:\n",
      "0.25577416595380664\n"
     ]
    }
   ],
   "source": [
    "from sklearn.metrics import confusion_matrix\n",
    "print('Confusion matrix:')\n",
    "print(confusion_matrix(y_test,y_pred4))\n",
    "print('F1 score:')\n",
    "print(f1_score(y_test,y_pred4))\n",
    "newton_method.append(f1_score(y_test,y_pred4))"
   ]
  },
  {
   "cell_type": "markdown",
   "metadata": {
    "id": "2LdYVNW39hMU"
   },
   "source": [
    "### 2.6 Overall Test Result"
   ]
  },
  {
   "cell_type": "code",
   "execution_count": null,
   "metadata": {
    "colab": {
     "base_uri": "https://localhost:8080/",
     "height": 206
    },
    "id": "h_nL7sAdiuHJ",
    "outputId": "9a15558a-1976-4188-e5b7-d92de68a589d"
   },
   "outputs": [
    {
     "data": {
      "text/html": [
       "\n",
       "  <div id=\"df-779a7f0d-5ca5-43a6-9b19-16bae807e86f\">\n",
       "    <div class=\"colab-df-container\">\n",
       "      <div>\n",
       "<style scoped>\n",
       "    .dataframe tbody tr th:only-of-type {\n",
       "        vertical-align: middle;\n",
       "    }\n",
       "\n",
       "    .dataframe tbody tr th {\n",
       "        vertical-align: top;\n",
       "    }\n",
       "\n",
       "    .dataframe thead th {\n",
       "        text-align: right;\n",
       "    }\n",
       "</style>\n",
       "<table border=\"1\" class=\"dataframe\">\n",
       "  <thead>\n",
       "    <tr style=\"text-align: right;\">\n",
       "      <th></th>\n",
       "      <th>b0</th>\n",
       "      <th>b1</th>\n",
       "      <th>b2</th>\n",
       "      <th>b3</th>\n",
       "      <th>b4</th>\n",
       "      <th>Accuracy Score</th>\n",
       "      <th>F1 Score</th>\n",
       "    </tr>\n",
       "  </thead>\n",
       "  <tbody>\n",
       "    <tr>\n",
       "      <th>Scikit Learn</th>\n",
       "      <td>-0.9696</td>\n",
       "      <td>-7.2199</td>\n",
       "      <td>0.4086</td>\n",
       "      <td>0.0296</td>\n",
       "      <td>-0.2146</td>\n",
       "      <td>0.663</td>\n",
       "      <td>0.234519</td>\n",
       "    </tr>\n",
       "    <tr>\n",
       "      <th>Ordinary Gradient Descent</th>\n",
       "      <td>-0.9873</td>\n",
       "      <td>-7.6182</td>\n",
       "      <td>0.4095</td>\n",
       "      <td>0.0305</td>\n",
       "      <td>-0.2133</td>\n",
       "      <td>0.664</td>\n",
       "      <td>0.238845</td>\n",
       "    </tr>\n",
       "    <tr>\n",
       "      <th>Stochastic Gradient Descent</th>\n",
       "      <td>-0.7501</td>\n",
       "      <td>-1.5533</td>\n",
       "      <td>0.4027</td>\n",
       "      <td>0.0041</td>\n",
       "      <td>-0.2394</td>\n",
       "      <td>0.658</td>\n",
       "      <td>0.175291</td>\n",
       "    </tr>\n",
       "    <tr>\n",
       "      <th>Mini-batch Gradient Descent</th>\n",
       "      <td>-0.9673</td>\n",
       "      <td>-7.5864</td>\n",
       "      <td>0.4280</td>\n",
       "      <td>0.0038</td>\n",
       "      <td>-0.1551</td>\n",
       "      <td>0.662</td>\n",
       "      <td>0.243290</td>\n",
       "    </tr>\n",
       "    <tr>\n",
       "      <th>Newton's Method</th>\n",
       "      <td>-1.1473</td>\n",
       "      <td>-11.1108</td>\n",
       "      <td>0.4162</td>\n",
       "      <td>0.0378</td>\n",
       "      <td>-0.2013</td>\n",
       "      <td>0.664</td>\n",
       "      <td>0.255774</td>\n",
       "    </tr>\n",
       "  </tbody>\n",
       "</table>\n",
       "</div>\n",
       "      <button class=\"colab-df-convert\" onclick=\"convertToInteractive('df-779a7f0d-5ca5-43a6-9b19-16bae807e86f')\"\n",
       "              title=\"Convert this dataframe to an interactive table.\"\n",
       "              style=\"display:none;\">\n",
       "        \n",
       "  <svg xmlns=\"http://www.w3.org/2000/svg\" height=\"24px\"viewBox=\"0 0 24 24\"\n",
       "       width=\"24px\">\n",
       "    <path d=\"M0 0h24v24H0V0z\" fill=\"none\"/>\n",
       "    <path d=\"M18.56 5.44l.94 2.06.94-2.06 2.06-.94-2.06-.94-.94-2.06-.94 2.06-2.06.94zm-11 1L8.5 8.5l.94-2.06 2.06-.94-2.06-.94L8.5 2.5l-.94 2.06-2.06.94zm10 10l.94 2.06.94-2.06 2.06-.94-2.06-.94-.94-2.06-.94 2.06-2.06.94z\"/><path d=\"M17.41 7.96l-1.37-1.37c-.4-.4-.92-.59-1.43-.59-.52 0-1.04.2-1.43.59L10.3 9.45l-7.72 7.72c-.78.78-.78 2.05 0 2.83L4 21.41c.39.39.9.59 1.41.59.51 0 1.02-.2 1.41-.59l7.78-7.78 2.81-2.81c.8-.78.8-2.07 0-2.86zM5.41 20L4 18.59l7.72-7.72 1.47 1.35L5.41 20z\"/>\n",
       "  </svg>\n",
       "      </button>\n",
       "      \n",
       "  <style>\n",
       "    .colab-df-container {\n",
       "      display:flex;\n",
       "      flex-wrap:wrap;\n",
       "      gap: 12px;\n",
       "    }\n",
       "\n",
       "    .colab-df-convert {\n",
       "      background-color: #E8F0FE;\n",
       "      border: none;\n",
       "      border-radius: 50%;\n",
       "      cursor: pointer;\n",
       "      display: none;\n",
       "      fill: #1967D2;\n",
       "      height: 32px;\n",
       "      padding: 0 0 0 0;\n",
       "      width: 32px;\n",
       "    }\n",
       "\n",
       "    .colab-df-convert:hover {\n",
       "      background-color: #E2EBFA;\n",
       "      box-shadow: 0px 1px 2px rgba(60, 64, 67, 0.3), 0px 1px 3px 1px rgba(60, 64, 67, 0.15);\n",
       "      fill: #174EA6;\n",
       "    }\n",
       "\n",
       "    [theme=dark] .colab-df-convert {\n",
       "      background-color: #3B4455;\n",
       "      fill: #D2E3FC;\n",
       "    }\n",
       "\n",
       "    [theme=dark] .colab-df-convert:hover {\n",
       "      background-color: #434B5C;\n",
       "      box-shadow: 0px 1px 3px 1px rgba(0, 0, 0, 0.15);\n",
       "      filter: drop-shadow(0px 1px 2px rgba(0, 0, 0, 0.3));\n",
       "      fill: #FFFFFF;\n",
       "    }\n",
       "  </style>\n",
       "\n",
       "      <script>\n",
       "        const buttonEl =\n",
       "          document.querySelector('#df-779a7f0d-5ca5-43a6-9b19-16bae807e86f button.colab-df-convert');\n",
       "        buttonEl.style.display =\n",
       "          google.colab.kernel.accessAllowed ? 'block' : 'none';\n",
       "\n",
       "        async function convertToInteractive(key) {\n",
       "          const element = document.querySelector('#df-779a7f0d-5ca5-43a6-9b19-16bae807e86f');\n",
       "          const dataTable =\n",
       "            await google.colab.kernel.invokeFunction('convertToInteractive',\n",
       "                                                     [key], {});\n",
       "          if (!dataTable) return;\n",
       "\n",
       "          const docLinkHtml = 'Like what you see? Visit the ' +\n",
       "            '<a target=\"_blank\" href=https://colab.research.google.com/notebooks/data_table.ipynb>data table notebook</a>'\n",
       "            + ' to learn more about interactive tables.';\n",
       "          element.innerHTML = '';\n",
       "          dataTable['output_type'] = 'display_data';\n",
       "          await google.colab.output.renderOutput(dataTable, element);\n",
       "          const docLink = document.createElement('div');\n",
       "          docLink.innerHTML = docLinkHtml;\n",
       "          element.appendChild(docLink);\n",
       "        }\n",
       "      </script>\n",
       "    </div>\n",
       "  </div>\n",
       "  "
      ],
      "text/plain": [
       "                                 b0       b1  ...  Accuracy Score  F1 Score\n",
       "Scikit Learn                -0.9696  -7.2199  ...           0.663  0.234519\n",
       "Ordinary Gradient Descent   -0.9873  -7.6182  ...           0.664  0.238845\n",
       "Stochastic Gradient Descent -0.7501  -1.5533  ...           0.658  0.175291\n",
       "Mini-batch Gradient Descent -0.9673  -7.5864  ...           0.662  0.243290\n",
       "Newton's Method             -1.1473 -11.1108  ...           0.664  0.255774\n",
       "\n",
       "[5 rows x 7 columns]"
      ]
     },
     "execution_count": 57,
     "metadata": {},
     "output_type": "execute_result"
    }
   ],
   "source": [
    "df_result = pd.DataFrame([scikit_learn,ordinary_gradient_descent,stochastic_gradient_descent,mini_batch_gradient_descent,newton_method],\n",
    "             index=['Scikit Learn','Ordinary Gradient Descent','Stochastic Gradient Descent','Mini-batch Gradient Descent',\"Newton's Method\"],\n",
    "             columns = ['b0','b1','b2','b3','b4','Accuracy Score','F1 Score'])\n",
    "df_result"
   ]
  }
 ],
 "metadata": {
  "colab": {
   "collapsed_sections": [],
   "name": "MGSC_695_Final_Project_v2.ipynb",
   "provenance": []
  },
  "kernelspec": {
   "display_name": "Python 3",
   "language": "python",
   "name": "python3"
  },
  "language_info": {
   "codemirror_mode": {
    "name": "ipython",
    "version": 3
   },
   "file_extension": ".py",
   "mimetype": "text/x-python",
   "name": "python",
   "nbconvert_exporter": "python",
   "pygments_lexer": "ipython3",
   "version": "3.8.3"
  },
  "toc": {
   "base_numbering": 1,
   "nav_menu": {},
   "number_sections": false,
   "sideBar": true,
   "skip_h1_title": false,
   "title_cell": "Table of Contents",
   "title_sidebar": "Contents",
   "toc_cell": false,
   "toc_position": {},
   "toc_section_display": true,
   "toc_window_display": false
  },
  "varInspector": {
   "cols": {
    "lenName": 16,
    "lenType": 16,
    "lenVar": 40
   },
   "kernels_config": {
    "python": {
     "delete_cmd_postfix": "",
     "delete_cmd_prefix": "del ",
     "library": "var_list.py",
     "varRefreshCmd": "print(var_dic_list())"
    },
    "r": {
     "delete_cmd_postfix": ") ",
     "delete_cmd_prefix": "rm(",
     "library": "var_list.r",
     "varRefreshCmd": "cat(var_dic_list()) "
    }
   },
   "types_to_exclude": [
    "module",
    "function",
    "builtin_function_or_method",
    "instance",
    "_Feature"
   ],
   "window_display": false
  }
 },
 "nbformat": 4,
 "nbformat_minor": 1
}
